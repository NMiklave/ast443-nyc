{
 "cells": [
  {
   "cell_type": "code",
   "execution_count": null,
   "metadata": {},
   "outputs": [],
   "source": []
  },
  {
   "cell_type": "code",
   "execution_count": null,
   "metadata": {},
   "outputs": [],
   "source": []
  },
  {
   "cell_type": "code",
   "execution_count": null,
   "metadata": {},
   "outputs": [],
   "source": []
  },
  {
   "cell_type": "code",
   "execution_count": 2,
   "metadata": {},
   "outputs": [],
   "source": [
    "import numpy as np\n",
    "import os\n",
    "import matplotlib\n",
    "import matplotlib.pyplot as plt\n",
    "from matplotlib.colors import LogNorm\n",
    "from astropy.io import fits\n",
    "from scipy.stats import mode\n",
    "from astropy.io import ascii\n",
    "from itertools import chain\n",
    "from matplotlib.ticker import MultipleLocator"
   ]
  },
  {
   "cell_type": "code",
   "execution_count": 27,
   "metadata": {},
   "outputs": [],
   "source": [
    "# getting 10 flat field images\n",
    "flats = []\n",
    "for i in range(0,10):\n",
    "    fname = '../data/30s_4000_flat.0000000{0}.FLAT.FIT'.format(i+1)\n",
    "    try: \n",
    "        file = fits.open(fname)\n",
    "    except FileNotFoundError:\n",
    "        fname = fits.open('../data/30s_4000_flat.00000009.FLAT.FIT')\n",
    "    flats.append(file[0].data)\n",
    "    file.close()\n",
    "# median combine the flats\n",
    "m_flats=sum(flats)/10\n",
    "m_flats_norm=m_flats/np.mean(m_flats)\n",
    "\n",
    "avgcounts=fits.PrimaryHDU(np.mean(m_flats))\n",
    "avgcounts.writeto('../data/avgcounts_flatfields.fits')"
   ]
  },
  {
   "cell_type": "code",
   "execution_count": 25,
   "metadata": {},
   "outputs": [
    {
     "data": {
      "text/plain": [
       "array([[1.00766778, 1.01364817, 1.0050478 , ..., 0.9738928 , 0.96796936,\n",
       "        0.96660241],\n",
       "       [1.01381904, 1.01723641, 1.01250905, ..., 0.96836805, 0.96683024,\n",
       "        0.96711502],\n",
       "       [1.01176862, 1.0092056 , 1.01256601, ..., 0.96318505, 0.97343715,\n",
       "        0.96523547],\n",
       "       ...,\n",
       "       [1.02014117, 1.02139421, 1.01797684, ..., 1.0282859 , 1.03033632,\n",
       "        1.0208816 ],\n",
       "       [1.01866031, 1.01940074, 1.01888814, ..., 1.03198805, 1.02942502,\n",
       "        1.02623548],\n",
       "       [1.01450251, 1.01592642, 1.01359122, ..., 1.00510475, 1.00191521,\n",
       "        1.00276955]])"
      ]
     },
     "execution_count": 25,
     "metadata": {},
     "output_type": "execute_result"
    }
   ],
   "source": [
    "m_flats_norm"
   ]
  },
  {
   "cell_type": "code",
   "execution_count": null,
   "metadata": {},
   "outputs": [],
   "source": []
  }
 ],
 "metadata": {
  "kernelspec": {
   "display_name": "Python 3",
   "language": "python",
   "name": "python3"
  },
  "language_info": {
   "codemirror_mode": {
    "name": "ipython",
    "version": 3
   },
   "file_extension": ".py",
   "mimetype": "text/x-python",
   "name": "python",
   "nbconvert_exporter": "python",
   "pygments_lexer": "ipython3",
   "version": "3.6.5"
  }
 },
 "nbformat": 4,
 "nbformat_minor": 2
}
