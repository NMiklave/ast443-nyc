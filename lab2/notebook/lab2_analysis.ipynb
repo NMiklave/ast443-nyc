{
 "cells": [
  {
   "cell_type": "code",
   "execution_count": 3,
   "metadata": {},
   "outputs": [],
   "source": [
    "import matplotlib.pyplot as plt\n",
    "import numpy as np\n",
    "from astropy.io import fits\n",
    "import os"
   ]
  },
  {
   "cell_type": "code",
   "execution_count": 34,
   "metadata": {},
   "outputs": [
    {
     "name": "stdout",
     "output_type": "stream",
     "text": [
      "[[ 8332.  8324.  8326. ...,  8251.  8256.  8238.]\n",
      " [ 8334.  8327.  8320. ...,  8242.  8250.  8255.]\n",
      " [ 8334.  8320.  8312. ...,  8250.  8255.  8248.]\n",
      " ..., \n",
      " [ 8319.  8321.  8321. ...,  8241.  8246.  8254.]\n",
      " [ 8324.  8327.  8321. ...,  8249.  8249.  8240.]\n",
      " [ 8317.  8323.  8325. ...,  8245.  8243.  8256.]]\n",
      "[[ 8360.  8357.  8362. ...,  8313.  8304.  8315.]\n",
      " [ 8369.  8370.  8359. ...,  8280.  8292.  8299.]\n",
      " [ 8377.  8377.  8349. ...,  8280.  8288.  8286.]\n",
      " ..., \n",
      " [ 8412.  8372.  8374. ...,  8302.  8295.  8291.]\n",
      " [ 8392.  8392.  8368. ...,  8312.  8321.  8299.]\n",
      " [ 8370.  8409.  8388. ...,  8317.  8313.  8298.]]\n",
      "[[ 8542.  8534.  8541. ...,  8511.  8545.  8515.]\n",
      " [ 8548.  8549.  8550. ...,  8543.  8548.  8503.]\n",
      " [ 8547.  8521.  8544. ...,  8531.  8508.  8553.]\n",
      " ..., \n",
      " [ 8614.  8637.  8605. ...,  8537.  8605.  8592.]\n",
      " [ 8651.  8627.  8630. ...,  8563.  8612.  8600.]\n",
      " [ 8681.  8656.  8628. ...,  8617.  8619.  8610.]]\n",
      "[[  9467.   9548.   9462. ...,   9641.   9654.   9671.]\n",
      " [  9612.   9630.   9564. ...,   9833.   9852.   9811.]\n",
      " [  9637.   9586.   9542. ...,   9744.   9779.   9778.]\n",
      " ..., \n",
      " [ 10061.  10036.  10051. ...,  10236.  10144.  10204.]\n",
      " [ 10093.  10090.  10026. ...,  10182.  10208.  10192.]\n",
      " [ 10126.  10128.  10117. ...,  10190.  10320.  10214.]]\n"
     ]
    },
    {
     "data": {
      "text/plain": [
       "[<matplotlib.lines.Line2D at 0x7f8bc9553fd0>]"
      ]
     },
     "execution_count": 34,
     "metadata": {},
     "output_type": "execute_result"
    },
    {
     "data": {
      "image/png": "[encoded data removed]",
      "text/plain": [
       "<matplotlib.figure.Figure at 0x7f8bc956fe10>"
      ]
     },
     "metadata": {},
     "output_type": "display_data"
    }
   ],
   "source": [
    "# Master Darks\n",
    "# 30 second master\n",
    "dark_30s = []\n",
    "for i in range(1, 10):\n",
    "    file = fits.open('../data/30secseries10_4000_neb_darkframes.0000000{0}.DARK.FIT'.format(i))\n",
    "    dark_30s.append(file[0].data)\n",
    "    file.close()\n",
    "    \n",
    "mdark_30s = np.empty(shape=dark_30s[0].shape)\n",
    "for i in range(len(dark_30s[0])):\n",
    "    for j in range(len(dark_30s[0][0])):\n",
    "        med = []\n",
    "        for file in dark_30s:\n",
    "            med.append(file[i][j])\n",
    "        mdark_30s[i][j] = np.median(med)\n",
    "\n",
    "print(mdark_30s)\n",
    "\n",
    "\n",
    "# 10 minute master\n",
    "dark_10m = []\n",
    "for i in range(0, 3):\n",
    "    file = fits.open('../data/10mseries3_4000_neb_darkframes.0000000{0}.DARK.FIT'.format(i))\n",
    "    dark_10m.append(file[0].data)\n",
    "    file.close()\n",
    "    \n",
    "mdark_10m = np.empty(shape=dark_10m[0].shape)\n",
    "for i in range(len(dark_10m[0])):\n",
    "    for j in range(len(dark_10m[0][0])):\n",
    "        med = []\n",
    "        for file in dark_10m:\n",
    "            med.append(file[i][j])\n",
    "        mdark_10m[i][j] = np.median(med)\n",
    "\n",
    "print(mdark_10m)\n",
    "\n",
    "\n",
    "# 20 minute master\n",
    "dark_20m = []\n",
    "for i in range(0, 3):\n",
    "    file = fits.open('../data/20mseries3_4000_neb_darkframes.0000000{0}.DARK.FIT'.format(i))\n",
    "    dark_20m.append(file[0].data)\n",
    "    file.close()\n",
    "    \n",
    "mdark_20m = np.empty(shape=dark_20m[0].shape)\n",
    "for i in range(len(dark_20m[0])):\n",
    "    for j in range(len(dark_20m[0][0])):\n",
    "        med = []\n",
    "        for file in dark_20m:\n",
    "            med.append(file[i][j])\n",
    "        mdark_20m[i][j] = np.median(med)\n",
    "\n",
    "print(mdark_20m)\n",
    "\n",
    "\n",
    "# 30 minute master\n",
    "dark_30m = []\n",
    "for i in range(2, 5):\n",
    "    file = fits.open('../data/30mseries3_4000_neb_darkframes.0000000{0}.DARK.FIT'.format(i))\n",
    "    dark_30m.append(file[0].data)\n",
    "    file.close()\n",
    "    \n",
    "mdark_30m = np.empty(shape=dark_30m[0].shape)\n",
    "for i in range(len(dark_30m[0])):\n",
    "    for j in range(len(dark_30m[0][0])):\n",
    "        med = []\n",
    "        for file in dark_30m:\n",
    "            med.append(file[i][j])\n",
    "        mdark_30m[i][j] = np.median(med)\n",
    "\n",
    "print(mdark_30m)\n",
    "\n",
    "plt.plot([30, 600, 1200, 1800], [np.median(mdark_30s), np.median(mdark_10m), np.median(mdark_20m), np.median(mdark_30m)])"
   ]
  },
  {
   "cell_type": "code",
   "execution_count": null,
   "metadata": {},
   "outputs": [],
   "source": []
  }
 ],
 "metadata": {
  "kernelspec": {
   "display_name": "Python 3",
   "language": "python",
   "name": "python3"
  },
  "language_info": {
   "codemirror_mode": {
    "name": "ipython",
    "version": 3
   },
   "file_extension": ".py",
   "mimetype": "text/x-python",
   "name": "python",
   "nbconvert_exporter": "python",
   "pygments_lexer": "ipython3",
   "version": "3.6.8"
  }
 },
 "nbformat": 4,
 "nbformat_minor": 2
}
