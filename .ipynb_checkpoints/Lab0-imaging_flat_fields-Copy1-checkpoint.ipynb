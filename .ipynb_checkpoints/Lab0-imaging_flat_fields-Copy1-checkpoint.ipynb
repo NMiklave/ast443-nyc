{
 "cells": [
  {
   "cell_type": "code",
   "execution_count": 50,
   "metadata": {},
   "outputs": [],
   "source": [
    "### for array operations\n",
    "import numpy as np\n",
    "\n",
    "### for plotting\n",
    "import matplotlib\n",
    "matplotlib.use('TkAgg')\n",
    "import matplotlib.pyplot as plt\n",
    "\n",
    "### for operations on FITS images\n",
    "from astropy.io import fits\n",
    "\n",
    "### statistics functions needed in this tutorial\n",
    "from scipy import stats\n",
    "from scipy.stats import norm\n"
   ]
  },
  {
   "cell_type": "code",
   "execution_count": 51,
   "metadata": {},
   "outputs": [],
   "source": [
    "#initialize lists\n",
    "filename=['flat.00000007.FLAT.FIT',\\\n",
    "'flat.00000008.FLAT.FIT',\\\n",
    "'flat.00000009.FLAT.FIT',\\\n",
    "'flat.00000010.FLAT.FIT',\\\n",
    "'flat.00000011.FLAT.FIT',\\\n",
    "'flat.00000012.FLAT.FIT',\\\n",
    "'flat.00000013.FLAT.FIT',\\\n",
    "'flat.00000014.FLAT.FIT',\\\n",
    "'flat.00000015.FLAT.FIT',\\\n",
    "'flat.00000016.FLAT.FIT']\n",
    "flatimage=[None]*10\n",
    "imagedata=[None]*10\n"
   ]
  },
  {
   "cell_type": "code",
   "execution_count": 52,
   "metadata": {},
   "outputs": [
    {
     "data": {
      "text/plain": [
       "['flat.00000007.FLAT.FIT',\n",
       " 'flat.00000008.FLAT.FIT',\n",
       " 'flat.00000009.FLAT.FIT',\n",
       " 'flat.00000010.FLAT.FIT',\n",
       " 'flat.00000011.FLAT.FIT',\n",
       " 'flat.00000012.FLAT.FIT',\n",
       " 'flat.00000013.FLAT.FIT',\n",
       " 'flat.00000014.FLAT.FIT',\n",
       " 'flat.00000015.FLAT.FIT',\n",
       " 'flat.00000016.FLAT.FIT']"
      ]
     },
     "execution_count": 52,
     "metadata": {},
     "output_type": "execute_result"
    }
   ],
   "source": [
    "filename"
   ]
  },
  {
   "cell_type": "code",
   "execution_count": 53,
   "metadata": {},
   "outputs": [
    {
     "data": {
      "text/plain": [
       "[None, None, None, None, None, None, None, None, None, None]"
      ]
     },
     "execution_count": 53,
     "metadata": {},
     "output_type": "execute_result"
    }
   ],
   "source": [
    "flatimage"
   ]
  },
  {
   "cell_type": "code",
   "execution_count": 54,
   "metadata": {},
   "outputs": [],
   "source": [
    "#read .fits files\n",
    "for i in range(10):\n",
    "        flatimage[i]=fits.open(filename[i])\n",
    "        imagedata[i]=flatimage[i][0].data"
   ]
  },
  {
   "cell_type": "code",
   "execution_count": 59,
   "metadata": {},
   "outputs": [],
   "source": [
    "#take average of 10 flat-fields\n",
    "avgcounts=np.mean(imagedata,axis=0)\n",
    "avg=fits.PrimaryHDU(avgcounts)\n",
    "#avg.writeto('avgcounts_flatfields.fits')\n"
   ]
  },
  {
   "cell_type": "code",
   "execution_count": 70,
   "metadata": {},
   "outputs": [
    {
     "data": {
      "text/plain": [
       "(15207.1449965477, 313.9904375078212, 26747.5, 12736.4)"
      ]
     },
     "execution_count": 70,
     "metadata": {},
     "output_type": "execute_result"
    }
   ],
   "source": [
    "#normalize to typical counts level(mean), take relative sensitivity(ratio) of each pixel\n",
    "avgcounts1=avgcounts.ravel()    # make 2d to 1d\n",
    "mean=np.mean(avgcounts1)\n",
    "std=np.std(avgcounts1)\n",
    "ratio=avgcounts/mean\n",
    "mean,std,max(avgcounts1),min(avgcounts1)\n"
   ]
  },
  {
   "cell_type": "code",
   "execution_count": 60,
   "metadata": {},
   "outputs": [
    {
     "data": {
      "image/png": "[encoded data removed]",
      "text/plain": [
       "<Figure size 432x288 with 1 Axes>"
      ]
     },
     "metadata": {},
     "output_type": "display_data"
    }
   ],
   "source": [
    "#plot histo of the counts for master flat-field\n",
    "%matplotlib inline\n",
    "plt.figure()\n",
    "plt.hist(avgcounts1,10000,range=[12000,27000])\n",
    "plt.xlabel('counts')\n",
    "plt.ylabel('number of pixels')\n",
    "#plt.xscale('log')\n",
    "plt.show()"
   ]
  },
  {
   "cell_type": "code",
   "execution_count": 61,
   "metadata": {},
   "outputs": [],
   "source": [
    "#plot relative sensitivity vs distance from the center\n",
    "x=np.array(range(1,1025))\n",
    "y=np.array(range(1,1025))\n",
    "xc,yc=np.meshgrid(x,y)\n",
    "d=((xc-512.5)**2+(yc-512.5)**2)**0.5\n"
   ]
  },
  {
   "cell_type": "code",
   "execution_count": 62,
   "metadata": {},
   "outputs": [
    {
     "data": {
      "text/plain": [
       "array([[   1,    2,    3, ..., 1022, 1023, 1024],\n",
       "       [   1,    2,    3, ..., 1022, 1023, 1024],\n",
       "       [   1,    2,    3, ..., 1022, 1023, 1024],\n",
       "       ...,\n",
       "       [   1,    2,    3, ..., 1022, 1023, 1024],\n",
       "       [   1,    2,    3, ..., 1022, 1023, 1024],\n",
       "       [   1,    2,    3, ..., 1022, 1023, 1024]])"
      ]
     },
     "execution_count": 62,
     "metadata": {},
     "output_type": "execute_result"
    }
   ],
   "source": [
    "xc"
   ]
  },
  {
   "cell_type": "code",
   "execution_count": 63,
   "metadata": {},
   "outputs": [
    {
     "data": {
      "text/plain": [
       "array([[   1,    1,    1, ...,    1,    1,    1],\n",
       "       [   2,    2,    2, ...,    2,    2,    2],\n",
       "       [   3,    3,    3, ...,    3,    3,    3],\n",
       "       ...,\n",
       "       [1022, 1022, 1022, ..., 1022, 1022, 1022],\n",
       "       [1023, 1023, 1023, ..., 1023, 1023, 1023],\n",
       "       [1024, 1024, 1024, ..., 1024, 1024, 1024]])"
      ]
     },
     "execution_count": 63,
     "metadata": {},
     "output_type": "execute_result"
    }
   ],
   "source": [
    "yc"
   ]
  },
  {
   "cell_type": "code",
   "execution_count": 64,
   "metadata": {},
   "outputs": [
    {
     "data": {
      "text/plain": [
       "array([[723.37023715, 722.66347632, 721.95740872, ..., 721.95740872,\n",
       "        722.66347632, 723.37023715],\n",
       "       [722.66347632, 721.95602359, 721.24926343, ..., 721.24926343,\n",
       "        721.95602359, 722.66347632],\n",
       "       [721.95740872, 721.24926343, 720.54181003, ..., 720.54181003,\n",
       "        721.24926343, 721.95740872],\n",
       "       ...,\n",
       "       [721.95740872, 721.24926343, 720.54181003, ..., 720.54181003,\n",
       "        721.24926343, 721.95740872],\n",
       "       [722.66347632, 721.95602359, 721.24926343, ..., 721.24926343,\n",
       "        721.95602359, 722.66347632],\n",
       "       [723.37023715, 722.66347632, 721.95740872, ..., 721.95740872,\n",
       "        722.66347632, 723.37023715]])"
      ]
     },
     "execution_count": 64,
     "metadata": {},
     "output_type": "execute_result"
    }
   ],
   "source": [
    "d"
   ]
  },
  {
   "cell_type": "code",
   "execution_count": 66,
   "metadata": {},
   "outputs": [
    {
     "data": {
      "text/plain": [
       "[<matplotlib.lines.Line2D at 0x1a2b466668>]"
      ]
     },
     "execution_count": 66,
     "metadata": {},
     "output_type": "execute_result"
    },
    {
     "data": {
      "image/png": "[encoded data removed]",
      "text/plain": [
       "<Figure size 432x288 with 1 Axes>"
      ]
     },
     "metadata": {},
     "output_type": "display_data"
    }
   ],
   "source": [
    "plt.plot(d.ravel(),ratio.ravel(),'+')"
   ]
  },
  {
   "cell_type": "code",
   "execution_count": null,
   "metadata": {},
   "outputs": [],
   "source": []
  }
 ],
 "metadata": {
  "kernelspec": {
   "display_name": "Python 3",
   "language": "python",
   "name": "python3"
  },
  "language_info": {
   "codemirror_mode": {
    "name": "ipython",
    "version": 3
   },
   "file_extension": ".py",
   "mimetype": "text/x-python",
   "name": "python",
   "nbconvert_exporter": "python",
   "pygments_lexer": "ipython3",
   "version": "3.6.8"
  }
 },
 "nbformat": 4,
 "nbformat_minor": 2
}
