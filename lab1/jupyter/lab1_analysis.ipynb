{
 "cells": [
  {
   "cell_type": "code",
   "execution_count": 74,
   "metadata": {},
   "outputs": [],
   "source": [
    "import numpy as np\n",
    "import os\n",
    "import matplotlib\n",
    "import matplotlib.pyplot as plt\n",
    "from matplotlib.colors import LogNorm\n",
    "from astropy.io import fits\n",
    "#from astropy.visualization import astropy_mpl_style\n",
    "#plt.style.use(astropy_mpl_style)\n",
    "from scipy.stats import mode"
   ]
  },
  {
   "cell_type": "markdown",
   "metadata": {},
   "source": [
    "## Generate Master Darks and Flat"
   ]
  },
  {
   "cell_type": "code",
   "execution_count": 3,
   "metadata": {},
   "outputs": [],
   "source": [
    "# Load fits files for 2s and 1.5s dark exposures, use ms values for naming consistency\n",
    "dark_1500ms = []\n",
    "dark_2000ms = []\n",
    "flats = []\n",
    "\n",
    "# Make list of 2s dark data\n",
    "for i in range(0,10):\n",
    "    fname = '../data/dark_R_2s.0000000{0}.DARK.FIT'.format(i+1)\n",
    "    try: \n",
    "        file = fits.open(fname)\n",
    "    except FileNotFoundError:\n",
    "        fname = fits.open('../data/dark_R_2s.00000010.DARK.FIT')\n",
    "    dark_2000ms.append(file[0].data)\n",
    "    file.close()\n",
    "\n",
    "# 1.5s dark data \n",
    "for i in range(10,20):\n",
    "    fname = '../data/dark_R_1.5s.000000{0}.DARK.FIT'.format(i+1)\n",
    "    file = fits.open(fname)\n",
    "    dark_1500ms.append(file[0].data)\n",
    "    file.close()\n",
    "\n",
    "# Flats data\n",
    "for i in range(0,10):\n",
    "    fname = '../data/flat_R.0000000{0}.FIT'.format(i+1)\n",
    "    try: \n",
    "        file = fits.open(fname)\n",
    "    except FileNotFoundError:\n",
    "        fname = fits.open('../data/flat_R.00000010.FIT')\n",
    "    flats.append(file[0].data)\n",
    "    file.close()\n",
    "    \n",
    "m_dark_1500ms = np.empty(shape=dark_1500ms[0].shape)       # Make blank arrays of 1024 by 1024\n",
    "m_dark_2000ms = np.empty(shape=dark_2000ms[0].shape)\n",
    "m_flat = np.zeros(shape=flats[0].shape)\n",
    "for y in range(1024):                          # For each y value\n",
    "    for x in range(1024):                      # and each x value\n",
    "        pixel_val_1500ms = []                             \n",
    "        pixel_val_2000ms = []\n",
    "        pixel_val_flat = []\n",
    "        for dark in dark_1500ms:                           # and every frame\n",
    "            pixel_val_1500ms.append(dark[y][x])     # Make a list of the value in the y,x pixel for 1.5s darks\n",
    "        for dark in dark_2000ms:                              \n",
    "            pixel_val_2000ms.append(dark[y][x])     # and the 2s darks\n",
    "        for flat in flats:\n",
    "            pixel_val_flat.append(flat[y][x])              # and the flats\n",
    "\n",
    "        m_dark_1500ms[y][x] = np.median(pixel_val_1500ms)  # And store median value to the y,x pixel of the right master\n",
    "        m_dark_2000ms[y][x] = np.median(pixel_val_2000ms)\n",
    "        m_flat[y][x] = np.median(pixel_val_flat)\n",
    "        \n",
    "# Normalize master flat to have relative intensities varying around 1\n",
    "m_flat /= np.mean(m_flat)"
   ]
  },
  {
   "cell_type": "markdown",
   "metadata": {
    "scrolled": false
   },
   "source": [
    "## Apply master fields to science images"
   ]
  },
  {
   "cell_type": "code",
   "execution_count": 146,
   "metadata": {},
   "outputs": [
    {
     "name": "stdout",
     "output_type": "stream",
     "text": [
      "/home/nicholas/documents/schoolwork/ast443/ast443-nyc/lab1/jupyter\n",
      "/home/nicholas/documents/schoolwork/ast443/ast443-nyc/lab1/processed_data\n"
     ]
    }
   ],
   "source": [
    "'''\n",
    "# Process science images with flats and darks (subtract dark, divide by flat)\n",
    "# Comment this block out once run the first time, processing intensive and only needs to be done once to make the files\n",
    "\n",
    "# Change working directory for processed data\n",
    "os.chdir('../jupyter/')\n",
    "print(os.getcwd())\n",
    "os.chdir('../processed_data/')\n",
    "print(os.getcwd())\n",
    "\n",
    "# File extensions\n",
    "files2000ms = np.array([*range(1, 902)])\n",
    "files1500ms = np.array([*range(1001, 1193)])\n",
    "files1500ms = np.append(files1500ms, [*range(2001, 3177)])\n",
    "sequential_data = []\n",
    "series = 0                                                               # Keep sequential file numbers\n",
    "for i in files2000ms:\n",
    "    file = fits.open('../data/hd209458_R_2s_start_series1000.0000{}.FIT'.format(str(i).zfill(4)))\n",
    "    test_file = fits.PrimaryHDU((file[0].data-m_dark_2000ms)/m_flat)\n",
    "    test_file.writeto('hd209458_processed_{}.fits'.format(str(series).zfill(5)), overwrite=True)\n",
    "    file.close()\n",
    "    series += 1\n",
    "for i in files1500ms:\n",
    "    file = fits.open('../data/hd209458_R_1_5s_start_series1000.0000{}.FIT'.format(str(i).zfill(4)))\n",
    "    test_file = fits.PrimaryHDU((file[0].data-m_dark_1500ms)/m_flat)\n",
    "    test_file.writeto('hd209458_processed_{}.fits'.format(str(series).zfill(5)), overwrite=True)\n",
    "    file.close()\n",
    "    series += 1\n",
    "\n",
    "#'''"
   ]
  },
  {
   "cell_type": "markdown",
   "metadata": {},
   "source": [
    "## Bad Pixel Map"
   ]
  },
  {
   "cell_type": "code",
   "execution_count": null,
   "metadata": {
    "scrolled": false
   },
   "outputs": [],
   "source": [
    "# Find stats for masters\n",
    "flat_mean = np.mean(m_flat)\n",
    "dark_mean1500 = np.mean(m_dark_1500ms)\n",
    "dark_mean2000 = np.mean(m_dark_2000ms)\n",
    "flat_std = np.std(m_flat)\n",
    "dark_std1500 = np.std(m_dark_1500ms)\n",
    "dark_std2000 = np.std(m_dark_2000ms)\n",
    "\n",
    "# Significance level for cuts ------------------------------------------------- EDITABLE FOR VARIOUS NEEDS\n",
    "siglevel = 3\n",
    "\n",
    "# Define a gaussian function\n",
    "def gaussian(mu, std):\n",
    "    x = np.linspace(mu-siglevel*std, mu+siglevel*std, 200)\n",
    "    func = np.exp(-pow((x-mu)/std, 2)/2)\n",
    "    func /= np.sqrt(2*np.pi*std*std)\n",
    "    func *= 1024*1024\n",
    "    return x, func\n",
    "\n",
    "# Cur the data to be within 5 sigma\n",
    "dark_1500ms_cut = [x for x in m_dark_1500ms.flatten() if x < dark_mean1500+siglevel*dark_std1500 \n",
    "                   and x > dark_mean1500-siglevel*dark_std1500]\n",
    "dark_2000ms_cut = [x for x in m_dark_2000ms.flatten() if x < dark_mean2000+siglevel*dark_std2000 \n",
    "                   and x > dark_mean2000-siglevel*dark_std2000]\n",
    "flat_cut = [x for x in m_flat.flatten() if x < flat_mean+siglevel*flat_std and x > flat_mean-siglevel*flat_std]\n",
    "\n",
    "# Plot histograms\n",
    "fig = plt.figure(figsize=(15, 9))\n",
    "ax1 = fig.add_subplot(311)\n",
    "ax2 = fig.add_subplot(312)\n",
    "ax3 = fig.add_subplot(313)\n",
    "ax1.hist(dark_1500ms_cut, log=True, bins=1000)\n",
    "ax2.hist(dark_2000ms_cut, log=True, bins=1000)\n",
    "ax3.hist(flat_cut, log=True, bins=1000)\n",
    "ax1.set_title('1.5s Master Dark Counts within 5 Sigma')\n",
    "ax2.set_title('2.0s Master Dark Counts within 5 Sigma')\n",
    "ax3.set_title('Master Flat Counts within 5 Sigma')\n",
    "ax1.plot(*gaussian(dark_mean1500, dark_std1500), 'r-')\n",
    "ax2.plot(*gaussian(dark_mean2000, dark_std2000), 'r-')\n",
    "ax3.plot(*gaussian(flat_mean, flat_std), 'r-')\n",
    "fig.tight_layout()\n",
    "plt.show()\n",
    "plt.close()\n",
    "\n",
    "# Make bad pixel map and plot\n",
    "bad_pixel_map = np.ones(shape=(1024, 1024))\n",
    "for y in range(1024):\n",
    "    for x in range(1024):\n",
    "        if (m_dark_1500ms[y][x] > dark_mean1500+siglevel*dark_std1500 or \n",
    "            m_dark_1500ms[y][x] < dark_mean1500-siglevel*dark_std1500):\n",
    "            bad_pixel_map[y][x] = 0\n",
    "        elif (m_dark_2000ms[y][x] > dark_mean2000+siglevel*dark_std2000 or \n",
    "              m_dark_2000ms[y][x] < dark_mean2000-siglevel*dark_std2000):\n",
    "            bad_pixel_map[y][x] = 0\n",
    "        elif m_flat[y][x] > flat_mean+siglevel*flat_std or m_flat[y][x] < flat_mean-siglevel*flat_std:\n",
    "            bad_pixel_map[y][x] = 0\n",
    "fig = plt.figure(figsize=(10, 10))\n",
    "plt.imshow(bad_pixel_map, cmap='hot_r')\n",
    "plt.show()"
   ]
  },
  {
   "cell_type": "code",
   "execution_count": null,
   "metadata": {},
   "outputs": [],
   "source": []
  },
  {
   "cell_type": "code",
   "execution_count": null,
   "metadata": {},
   "outputs": [],
   "source": []
  }
 ],
 "metadata": {
  "kernelspec": {
   "display_name": "kernel",
   "language": "python",
   "name": "kernel"
  },
  "language_info": {
   "codemirror_mode": {
    "name": "ipython",
    "version": 3
   },
   "file_extension": ".py",
   "mimetype": "text/x-python",
   "name": "python",
   "nbconvert_exporter": "python",
   "pygments_lexer": "ipython3",
   "version": "3.6.8"
  }
 },
 "nbformat": 4,
 "nbformat_minor": 2
}
