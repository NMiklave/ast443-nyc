{
 "cells": [
  {
   "cell_type": "markdown",
   "metadata": {},
   "source": [
    "# Lab 0 Data Analysis"
   ]
  },
  {
   "cell_type": "code",
   "execution_count": 7,
   "metadata": {},
   "outputs": [],
   "source": [
    "import sys\n",
    "import numpy as np\n",
    "import matplotlib.pyplot as plt\n",
    "from astropy.io import fits\n",
    "from scipy.stats import norm\n",
    "import random as rand"
   ]
  },
  {
   "cell_type": "markdown",
   "metadata": {},
   "source": [
    "## 4.1: Bias Frames"
   ]
  },
  {
   "cell_type": "code",
   "execution_count": null,
   "metadata": {},
   "outputs": [],
   "source": []
  },
  {
   "cell_type": "markdown",
   "metadata": {},
   "source": [
    "## 4.2: Dark Frames"
   ]
  },
  {
   "cell_type": "code",
   "execution_count": null,
   "metadata": {},
   "outputs": [],
   "source": []
  },
  {
   "cell_type": "markdown",
   "metadata": {},
   "source": [
    "## 4.3: Imaging Flat Fields"
   ]
  },
  {
   "cell_type": "code",
   "execution_count": 33,
   "metadata": {},
   "outputs": [
    {
     "name": "stdout",
     "output_type": "stream",
     "text": [
      "[[0.97 0.21 0.88]\n",
      " [0.33 0.06 0.48]\n",
      " [0.05 0.11 0.6 ]] \n",
      "        +\n",
      " [[0.3  0.78 0.56]\n",
      " [0.65 0.55 0.56]\n",
      " [0.47 0.18 0.55]] \n",
      "        =\n",
      " [[1.27 0.99 1.44]\n",
      " [0.98 0.61 1.04]\n",
      " [0.52 0.29 1.15]]\n"
     ]
    }
   ],
   "source": [
    "#flat_fits = fits.open('../data/')\n",
    "#flat_fits.info()\n",
    "\n",
    "test1 = np.zeros(shape=(3, 3))\n",
    "test2 = np.zeros(shape=(3, 3))\n",
    "for i in range(3):\n",
    "    for j in range(3):\n",
    "        test1[i][j] = rand.randint(0, 100)/100\n",
    "        test2[i][j] = rand.randint(0, 100)/100\n",
    "\n",
    "print(test1, '\\n        +\\n', test2, '\\n        =\\n',test1+test2)\n",
    "print(stats.average())"
   ]
  },
  {
   "cell_type": "markdown",
   "metadata": {},
   "source": [
    "## 4.4: Bad Pixel Map"
   ]
  },
  {
   "cell_type": "code",
   "execution_count": null,
   "metadata": {},
   "outputs": [],
   "source": []
  },
  {
   "cell_type": "markdown",
   "metadata": {},
   "source": [
    "## 4.6: Calibration Strategies"
   ]
  },
  {
   "cell_type": "code",
   "execution_count": null,
   "metadata": {},
   "outputs": [],
   "source": []
  }
 ],
 "metadata": {
  "kernelspec": {
   "display_name": "kernel",
   "language": "python",
   "name": "kernel"
  },
  "language_info": {
   "codemirror_mode": {
    "name": "ipython",
    "version": 3
   },
   "file_extension": ".py",
   "mimetype": "text/x-python",
   "name": "python",
   "nbconvert_exporter": "python",
   "pygments_lexer": "ipython3",
   "version": "3.6.8"
  }
 },
 "nbformat": 4,
 "nbformat_minor": 2
}
