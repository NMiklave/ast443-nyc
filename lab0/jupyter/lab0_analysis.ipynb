{
 "cells": [
  {
   "cell_type": "markdown",
   "metadata": {},
   "source": [
    "# Lab 0 Data Analysis"
   ]
  },
  {
   "cell_type": "code",
   "execution_count": 66,
   "metadata": {},
   "outputs": [],
   "source": [
    "import sys\n",
    "import numpy as np\n",
    "import matplotlib.pyplot as plt\n",
    "from astropy.io import fits\n",
    "from scipy.stats import norm\n",
    "import random as rand"
   ]
  },
  {
   "cell_type": "markdown",
   "metadata": {},
   "source": [
    "## 4.1: Bias Frames"
   ]
  },
  {
   "cell_type": "code",
   "execution_count": null,
   "metadata": {},
   "outputs": [],
   "source": []
  },
  {
   "cell_type": "markdown",
   "metadata": {},
   "source": [
    "## 4.2: Dark Frames"
   ]
  },
  {
   "cell_type": "code",
   "execution_count": 107,
   "metadata": {},
   "outputs": [
    {
     "name": "stdout",
     "output_type": "stream",
     "text": [
      "0\n",
      "128\n",
      "256\n",
      "384\n",
      "512\n",
      "640\n",
      "768\n",
      "896\n",
      "[[1049.7 1041.  1044.2 ... 1018.2 1010.3 1012.6]\n",
      " [1060.9 1036.8 1040.2 ... 1017.8 1131.6 1014.1]\n",
      " [1054.2 1044.9 1036.4 ... 1011.5 1019.6 1037.7]\n",
      " ...\n",
      " [1039.3 1033.  1032.4 ... 1018.4 1028.2 1019.6]\n",
      " [1035.2 1033.3 1039.  ... 1023.  1022.6 1023.9]\n",
      " [1037.7 1035.7 1039.  ... 1027.6 1021.  1025.8]]\n"
     ]
    }
   ],
   "source": [
    "# Open all the files\n",
    "dark1 = fits.open('../data/dark_10series_0c_0m30s.00000001.DARK.FIT')\n",
    "dark2 = fits.open('../data/dark_10series_0c_0m30s.00000002.DARK.FIT')\n",
    "dark3 = fits.open('../data/dark_10series_0c_0m30s.00000003.DARK.FIT')\n",
    "dark4 = fits.open('../data/dark_10series_0c_0m30s.00000004.DARK.FIT')\n",
    "dark5 = fits.open('../data/dark_10series_0c_0m30s.00000005.DARK.FIT')\n",
    "dark6 = fits.open('../data/dark_10series_0c_0m30s.00000006.DARK.FIT')\n",
    "dark7 = fits.open('../data/dark_10series_0c_0m30s.00000007.DARK.FIT')\n",
    "dark8 = fits.open('../data/dark_10series_0c_0m30s.00000008.DARK.FIT')\n",
    "dark9 = fits.open('../data/dark_10series_0c_0m30s.00000009.DARK.FIT')\n",
    "dark10 = fits.open('../data/dark_10series_0c_0m30s.00000010.DARK.FIT')\n",
    "file_list = [dark1[0].data, dark2[0].data, dark3[0].data, dark4[0].data, \n",
    "             dark5[0].data, dark6[0].data, dark7[0].data, dark8[0].data,\n",
    "             dark9[0].data, dark10[0].data]\n",
    "\n",
    "\n",
    "# Make master median frame\n",
    "master_dark = np.zeros(shape=dark1[0].shape)     # Blank array with same shape as others\n",
    "for i in range(1024):\n",
    "    for j in range(1024):\n",
    "        total = 0\n",
    "        for dark in file_list:\n",
    "            total += dark[i][j]\n",
    "        master_dark[i][j] = total/10\n",
    "    if i%128 == 0: print(i)\n",
    "print(master_dark)\n",
    "\n",
    "\n",
    "# Close all the files\n",
    "dark1.close()\n",
    "dark2.close()\n",
    "dark3.close()\n",
    "dark4.close()\n",
    "dark5.close()\n",
    "dark6.close()\n",
    "dark7.close()\n",
    "dark8.close()\n",
    "dark9.close()\n",
    "dark10.close()"
   ]
  },
  {
   "cell_type": "markdown",
   "metadata": {},
   "source": [
    "## 4.3: Imaging Flat Fields"
   ]
  },
  {
   "cell_type": "code",
   "execution_count": null,
   "metadata": {},
   "outputs": [],
   "source": []
  },
  {
   "cell_type": "markdown",
   "metadata": {},
   "source": [
    "## 4.4: Bad Pixel Map"
   ]
  },
  {
   "cell_type": "code",
   "execution_count": null,
   "metadata": {},
   "outputs": [],
   "source": []
  },
  {
   "cell_type": "markdown",
   "metadata": {},
   "source": [
    "## 4.6: Calibration Strategies"
   ]
  },
  {
   "cell_type": "code",
   "execution_count": null,
   "metadata": {},
   "outputs": [],
   "source": []
  },
  {
   "cell_type": "code",
   "execution_count": null,
   "metadata": {},
   "outputs": [],
   "source": []
  }
 ],
 "metadata": {
  "kernelspec": {
   "display_name": "kernel",
   "language": "python",
   "name": "kernel"
  },
  "language_info": {
   "codemirror_mode": {
    "name": "ipython",
    "version": 3
   },
   "file_extension": ".py",
   "mimetype": "text/x-python",
   "name": "python",
   "nbconvert_exporter": "python",
   "pygments_lexer": "ipython3",
   "version": "3.6.8"
  }
 },
 "nbformat": 4,
 "nbformat_minor": 2
}
