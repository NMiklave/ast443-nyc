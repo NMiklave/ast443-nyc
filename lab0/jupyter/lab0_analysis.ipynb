{
 "cells": [
  {
   "cell_type": "markdown",
   "metadata": {},
   "source": [
    "# Lab 0 Data Analysis"
   ]
  },
  {
   "cell_type": "code",
   "execution_count": 66,
   "metadata": {},
   "outputs": [],
   "source": [
    "import sys\n",
    "import numpy as np\n",
    "import matplotlib.pyplot as plt\n",
    "from astropy.io import fits\n",
    "from scipy.stats import norm\n",
    "import random as rand"
   ]
  },
  {
   "cell_type": "markdown",
   "metadata": {},
   "source": [
    "## 4.1: Bias Frames"
   ]
  },
  {
   "cell_type": "code",
   "execution_count": null,
   "metadata": {},
   "outputs": [],
   "source": []
  },
  {
   "cell_type": "markdown",
   "metadata": {},
   "source": [
    "## 4.2: Dark Frames"
   ]
  },
  {
   "cell_type": "markdown",
   "metadata": {},
   "source": [
    "#### Read in the Data and make Master Dark"
   ]
  },
  {
   "cell_type": "code",
   "execution_count": 119,
   "metadata": {},
   "outputs": [
    {
     "name": "stdout",
     "output_type": "stream",
     "text": [
      "[[1049.5 1039.5 1042.5 ... 1019.  1010.  1013.5]\n",
      " [1058.  1034.5 1040.5 ... 1017.  1131.5 1016.5]\n",
      " [1053.5 1046.5 1032.5 ... 1011.5 1020.5 1034.5]\n",
      " ...\n",
      " [1038.5 1033.5 1030.5 ... 1020.5 1027.5 1019. ]\n",
      " [1036.  1036.  1038.5 ... 1024.  1023.5 1024.5]\n",
      " [1034.5 1034.5 1038.5 ... 1027.  1020.  1027. ]]\n"
     ]
    }
   ],
   "source": [
    "# Open all the files\n",
    "dark1 = fits.open('../data/dark_10series_0c_0m30s.00000001.DARK.FIT')\n",
    "dark2 = fits.open('../data/dark_10series_0c_0m30s.00000002.DARK.FIT')\n",
    "dark3 = fits.open('../data/dark_10series_0c_0m30s.00000003.DARK.FIT')\n",
    "dark4 = fits.open('../data/dark_10series_0c_0m30s.00000004.DARK.FIT')\n",
    "dark5 = fits.open('../data/dark_10series_0c_0m30s.00000005.DARK.FIT')\n",
    "dark6 = fits.open('../data/dark_10series_0c_0m30s.00000006.DARK.FIT')\n",
    "dark7 = fits.open('../data/dark_10series_0c_0m30s.00000007.DARK.FIT')\n",
    "dark8 = fits.open('../data/dark_10series_0c_0m30s.00000008.DARK.FIT')\n",
    "dark9 = fits.open('../data/dark_10series_0c_0m30s.00000009.DARK.FIT')\n",
    "dark10 = fits.open('../data/dark_10series_0c_0m30s.00000010.DARK.FIT')\n",
    "file_list = [dark1[0].data, dark2[0].data, dark3[0].data, dark4[0].data, \n",
    "             dark5[0].data, dark6[0].data, dark7[0].data, dark8[0].data,\n",
    "             dark9[0].data, dark10[0].data]\n",
    "\n",
    "# Make master median dark frame\n",
    "master_dark = np.zeros(shape=dark1[0].shape)     # Blank array with same shape as others\n",
    "for i in range(1024):\n",
    "    for j in range(1024):\n",
    "        indices_list = []\n",
    "        for dark in file_list:\n",
    "            indices_list.append(dark[i][j])\n",
    "        master_dark[i][j] = np.median(indices_list)\n",
    "print(master_dark)\n",
    "\n",
    "# Close all the files\n",
    "dark1.close()\n",
    "dark2.close()\n",
    "dark3.close()\n",
    "dark4.close()\n",
    "dark5.close()\n",
    "dark6.close()\n",
    "dark7.close()\n",
    "dark8.close()\n",
    "dark9.close()\n",
    "dark10.close()"
   ]
  },
  {
   "cell_type": "markdown",
   "metadata": {},
   "source": [
    "#### Plot Histogram of the Master Dark"
   ]
  },
  {
   "cell_type": "code",
   "execution_count": 155,
   "metadata": {},
   "outputs": [
    {
     "name": "stdout",
     "output_type": "stream",
     "text": [
      "1002.0 62865.0\n"
     ]
    },
    {
     "data": {
      "text/plain": [
       "(1000, 2000)"
      ]
     },
     "execution_count": 155,
     "metadata": {},
     "output_type": "execute_result"
    },
    {
     "data": {
      "image/png": "[encoded data removed]",
      "text/plain": [
       "<Figure size 1440x720 with 2 Axes>"
      ]
     },
     "metadata": {
      "needs_background": "light"
     },
     "output_type": "display_data"
    }
   ],
   "source": [
    "print(master_dark.min(), master_dark.max())\n",
    "\n",
    "fig = plt.figure(figsize=(20, 10))\n",
    "ax1 = fig.add_subplot(211)\n",
    "ax2 = fig.add_subplot(212)\n",
    "hist1 = ax1.hist(master_dark.flatten(), bins=500, log=True)\n",
    "hist2 = ax2.hist(master_dark.flatten(), bins=1001, log=True, range=(1000, 2000))\n",
    "ax1.set_xlim(1000, 63000)\n",
    "ax2.set_xlim(1000, 2000)"
   ]
  },
  {
   "cell_type": "markdown",
   "metadata": {},
   "source": [
    "## 4.3: Imaging Flat Fields"
   ]
  },
  {
   "cell_type": "code",
   "execution_count": null,
   "metadata": {},
   "outputs": [],
   "source": []
  },
  {
   "cell_type": "markdown",
   "metadata": {},
   "source": [
    "## 4.4: Bad Pixel Map"
   ]
  },
  {
   "cell_type": "code",
   "execution_count": null,
   "metadata": {},
   "outputs": [],
   "source": []
  },
  {
   "cell_type": "markdown",
   "metadata": {},
   "source": [
    "## 4.6: Calibration Strategies"
   ]
  },
  {
   "cell_type": "code",
   "execution_count": null,
   "metadata": {},
   "outputs": [],
   "source": []
  },
  {
   "cell_type": "code",
   "execution_count": null,
   "metadata": {},
   "outputs": [],
   "source": []
  }
 ],
 "metadata": {
  "kernelspec": {
   "display_name": "kernel",
   "language": "python",
   "name": "kernel"
  },
  "language_info": {
   "codemirror_mode": {
    "name": "ipython",
    "version": 3
   },
   "file_extension": ".py",
   "mimetype": "text/x-python",
   "name": "python",
   "nbconvert_exporter": "python",
   "pygments_lexer": "ipython3",
   "version": "3.6.8"
  }
 },
 "nbformat": 4,
 "nbformat_minor": 2
}
